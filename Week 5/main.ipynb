{
 "cells": [
  {
   "cell_type": "code",
   "execution_count": 2,
   "id": "cb168294",
   "metadata": {},
   "outputs": [
    {
     "data": {
      "text/html": [
       "<div>\n",
       "<style scoped>\n",
       "    .dataframe tbody tr th:only-of-type {\n",
       "        vertical-align: middle;\n",
       "    }\n",
       "\n",
       "    .dataframe tbody tr th {\n",
       "        vertical-align: top;\n",
       "    }\n",
       "\n",
       "    .dataframe thead th {\n",
       "        text-align: right;\n",
       "    }\n",
       "</style>\n",
       "<table border=\"1\" class=\"dataframe\">\n",
       "  <thead>\n",
       "    <tr style=\"text-align: right;\">\n",
       "      <th></th>\n",
       "      <th>ID</th>\n",
       "      <th>SystemCodeNumber</th>\n",
       "      <th>Capacity</th>\n",
       "      <th>Latitude</th>\n",
       "      <th>Longitude</th>\n",
       "      <th>Occupancy</th>\n",
       "      <th>VehicleType</th>\n",
       "      <th>TrafficConditionNearby</th>\n",
       "      <th>QueueLength</th>\n",
       "      <th>IsSpecialDay</th>\n",
       "      <th>LastUpdatedDate</th>\n",
       "      <th>LastUpdatedTime</th>\n",
       "    </tr>\n",
       "  </thead>\n",
       "  <tbody>\n",
       "    <tr>\n",
       "      <th>0</th>\n",
       "      <td>0</td>\n",
       "      <td>BHMBCCMKT01</td>\n",
       "      <td>577</td>\n",
       "      <td>26.144536</td>\n",
       "      <td>91.736172</td>\n",
       "      <td>61</td>\n",
       "      <td>car</td>\n",
       "      <td>low</td>\n",
       "      <td>1</td>\n",
       "      <td>0</td>\n",
       "      <td>04-10-2016</td>\n",
       "      <td>07:59:00</td>\n",
       "    </tr>\n",
       "    <tr>\n",
       "      <th>1</th>\n",
       "      <td>1</td>\n",
       "      <td>BHMBCCMKT01</td>\n",
       "      <td>577</td>\n",
       "      <td>26.144536</td>\n",
       "      <td>91.736172</td>\n",
       "      <td>64</td>\n",
       "      <td>car</td>\n",
       "      <td>low</td>\n",
       "      <td>1</td>\n",
       "      <td>0</td>\n",
       "      <td>04-10-2016</td>\n",
       "      <td>08:25:00</td>\n",
       "    </tr>\n",
       "    <tr>\n",
       "      <th>2</th>\n",
       "      <td>2</td>\n",
       "      <td>BHMBCCMKT01</td>\n",
       "      <td>577</td>\n",
       "      <td>26.144536</td>\n",
       "      <td>91.736172</td>\n",
       "      <td>80</td>\n",
       "      <td>car</td>\n",
       "      <td>low</td>\n",
       "      <td>2</td>\n",
       "      <td>0</td>\n",
       "      <td>04-10-2016</td>\n",
       "      <td>08:59:00</td>\n",
       "    </tr>\n",
       "    <tr>\n",
       "      <th>3</th>\n",
       "      <td>3</td>\n",
       "      <td>BHMBCCMKT01</td>\n",
       "      <td>577</td>\n",
       "      <td>26.144536</td>\n",
       "      <td>91.736172</td>\n",
       "      <td>107</td>\n",
       "      <td>car</td>\n",
       "      <td>low</td>\n",
       "      <td>2</td>\n",
       "      <td>0</td>\n",
       "      <td>04-10-2016</td>\n",
       "      <td>09:32:00</td>\n",
       "    </tr>\n",
       "    <tr>\n",
       "      <th>4</th>\n",
       "      <td>4</td>\n",
       "      <td>BHMBCCMKT01</td>\n",
       "      <td>577</td>\n",
       "      <td>26.144536</td>\n",
       "      <td>91.736172</td>\n",
       "      <td>150</td>\n",
       "      <td>bike</td>\n",
       "      <td>low</td>\n",
       "      <td>2</td>\n",
       "      <td>0</td>\n",
       "      <td>04-10-2016</td>\n",
       "      <td>09:59:00</td>\n",
       "    </tr>\n",
       "  </tbody>\n",
       "</table>\n",
       "</div>"
      ],
      "text/plain": [
       "   ID SystemCodeNumber  Capacity   Latitude  Longitude  Occupancy VehicleType  \\\n",
       "0   0      BHMBCCMKT01       577  26.144536  91.736172         61         car   \n",
       "1   1      BHMBCCMKT01       577  26.144536  91.736172         64         car   \n",
       "2   2      BHMBCCMKT01       577  26.144536  91.736172         80         car   \n",
       "3   3      BHMBCCMKT01       577  26.144536  91.736172        107         car   \n",
       "4   4      BHMBCCMKT01       577  26.144536  91.736172        150        bike   \n",
       "\n",
       "  TrafficConditionNearby  QueueLength  IsSpecialDay LastUpdatedDate  \\\n",
       "0                    low            1             0      04-10-2016   \n",
       "1                    low            1             0      04-10-2016   \n",
       "2                    low            2             0      04-10-2016   \n",
       "3                    low            2             0      04-10-2016   \n",
       "4                    low            2             0      04-10-2016   \n",
       "\n",
       "  LastUpdatedTime  \n",
       "0        07:59:00  \n",
       "1        08:25:00  \n",
       "2        08:59:00  \n",
       "3        09:32:00  \n",
       "4        09:59:00  "
      ]
     },
     "execution_count": 2,
     "metadata": {},
     "output_type": "execute_result"
    }
   ],
   "source": [
    "import pandas as pd\n",
    "import numpy as np\n",
    "\n",
    "# Load dataset\n",
    "df = pd.read_csv(\"dataset.csv\")\n",
    "\n",
    "# Display first few rows\n",
    "df.head()\n"
   ]
  },
  {
   "cell_type": "code",
   "execution_count": 3,
   "id": "80f4169d",
   "metadata": {},
   "outputs": [
    {
     "name": "stdout",
     "output_type": "stream",
     "text": [
      "['ID', 'SystemCodeNumber', 'Capacity', 'Latitude', 'Longitude', 'Occupancy', 'VehicleType', 'TrafficConditionNearby', 'QueueLength', 'IsSpecialDay', 'LastUpdatedDate', 'LastUpdatedTime']\n"
     ]
    }
   ],
   "source": [
    "# List all columns to understand data structure\n",
    "print(df.columns.tolist())"
   ]
  },
  {
   "cell_type": "code",
   "execution_count": 4,
   "id": "0552e552",
   "metadata": {},
   "outputs": [],
   "source": [
    "# Hyperparameters\n",
    "alpha = 2.0           # Controls price increment sensitivity\n",
    "base_price = 10.0     # Starting price for each lot\n",
    "min_price = 5.0       # Minimum allowed price\n",
    "max_price = 20.0      # Maximum allowed price\n"
   ]
  },
  {
   "cell_type": "code",
   "execution_count": 5,
   "id": "7076c3bd",
   "metadata": {},
   "outputs": [],
   "source": [
    "# Create a working copy\n",
    "df_pricing = df.copy()\n",
    "\n",
    "# Add a new price column\n",
    "df_pricing[\"price\"] = np.nan\n",
    "\n",
    "# Get unique lot identifiers from 'SystemCodeNumber'\n",
    "parking_ids = df_pricing[\"SystemCodeNumber\"].unique()\n",
    "\n",
    "# Initialize the latest price for each parking lot\n",
    "latest_prices = {pid: base_price for pid in parking_ids}\n"
   ]
  },
  {
   "cell_type": "code",
   "execution_count": 6,
   "id": "c8039dce",
   "metadata": {},
   "outputs": [],
   "source": [
    "# Apply pricing model row by row\n",
    "for idx, row in df_pricing.iterrows():\n",
    "    lot_id = row[\"SystemCodeNumber\"]\n",
    "    occupancy = row[\"Occupancy\"]\n",
    "    capacity = row[\"Capacity\"]\n",
    "\n",
    "    # Handle capacity=0 edge case\n",
    "    if capacity == 0:\n",
    "        price = latest_prices[lot_id]\n",
    "    else:\n",
    "        price_increment = alpha * (occupancy / capacity)\n",
    "        price = latest_prices[lot_id] + price_increment\n",
    "\n",
    "    # Smooth price between limits\n",
    "    price = np.clip(price, min_price, max_price)\n",
    "\n",
    "    # Save price\n",
    "    df_pricing.at[idx, \"price\"] = price\n",
    "\n",
    "    # Update price for next timestep\n",
    "    latest_prices[lot_id] = price\n"
   ]
  },
  {
   "cell_type": "code",
   "execution_count": 7,
   "id": "7eef8262",
   "metadata": {},
   "outputs": [
    {
     "name": "stdout",
     "output_type": "stream",
     "text": [
      "✅ Pricing complete. Results saved to 'baseline_pricing_output.csv'\n"
     ]
    }
   ],
   "source": [
    "# Save the new DataFrame with pricing\n",
    "df_pricing.to_csv(\"baseline_pricing_output.csv\", index=False)\n",
    "\n",
    "print(\"✅ Pricing complete. Results saved to 'baseline_pricing_output.csv'\")\n"
   ]
  },
  {
   "cell_type": "code",
   "execution_count": null,
   "id": "60d79b48",
   "metadata": {},
   "outputs": [],
   "source": []
  }
 ],
 "metadata": {
  "kernelspec": {
   "display_name": "Python 3",
   "language": "python",
   "name": "python3"
  },
  "language_info": {
   "codemirror_mode": {
    "name": "ipython",
    "version": 3
   },
   "file_extension": ".py",
   "mimetype": "text/x-python",
   "name": "python",
   "nbconvert_exporter": "python",
   "pygments_lexer": "ipython3",
   "version": "3.13.1"
  }
 },
 "nbformat": 4,
 "nbformat_minor": 5
}
